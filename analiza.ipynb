{
 "cells": [
  {
   "cell_type": "markdown",
   "metadata": {},
   "source": [
    "Biblioteki i import pliku CSV"
   ]
  },
  {
   "cell_type": "code",
   "execution_count": 1,
   "metadata": {},
   "outputs": [],
   "source": [
    "import pandas as pd\n",
    "import numpy as np\n",
    "from scipy.stats import linregress\n",
    "import matplotlib.pyplot as plt\n",
    "from IPython.display import display\n",
    "\n",
    "data = pd.read_csv('dataframe.csv')"
   ]
  },
  {
   "cell_type": "markdown",
   "metadata": {},
   "source": [
    "Wyświetlenie tabeli danych"
   ]
  },
  {
   "cell_type": "code",
   "execution_count": 2,
   "metadata": {},
   "outputs": [
    {
     "data": {
      "text/html": [
       "<div>\n",
       "<style scoped>\n",
       "    .dataframe tbody tr th:only-of-type {\n",
       "        vertical-align: middle;\n",
       "    }\n",
       "\n",
       "    .dataframe tbody tr th {\n",
       "        vertical-align: top;\n",
       "    }\n",
       "\n",
       "    .dataframe thead th {\n",
       "        text-align: right;\n",
       "    }\n",
       "</style>\n",
       "<table border=\"1\" class=\"dataframe\">\n",
       "  <thead>\n",
       "    <tr style=\"text-align: right;\">\n",
       "      <th></th>\n",
       "      <th>x1</th>\n",
       "      <th>\"y1\"</th>\n",
       "      <th>\"x2\"</th>\n",
       "      <th>\"y2\"</th>\n",
       "      <th>\"x3\"</th>\n",
       "      <th>\"y3\"</th>\n",
       "      <th>\"x4\"</th>\n",
       "      <th>\"y4\"</th>\n",
       "    </tr>\n",
       "  </thead>\n",
       "  <tbody>\n",
       "    <tr>\n",
       "      <th>0</th>\n",
       "      <td>10.0</td>\n",
       "      <td>8.04</td>\n",
       "      <td>10.0</td>\n",
       "      <td>9.14</td>\n",
       "      <td>10.0</td>\n",
       "      <td>7.46</td>\n",
       "      <td>8.0</td>\n",
       "      <td>6.58</td>\n",
       "    </tr>\n",
       "    <tr>\n",
       "      <th>1</th>\n",
       "      <td>8.0</td>\n",
       "      <td>6.95</td>\n",
       "      <td>8.0</td>\n",
       "      <td>8.14</td>\n",
       "      <td>8.0</td>\n",
       "      <td>6.77</td>\n",
       "      <td>8.0</td>\n",
       "      <td>5.76</td>\n",
       "    </tr>\n",
       "    <tr>\n",
       "      <th>2</th>\n",
       "      <td>13.0</td>\n",
       "      <td>7.58</td>\n",
       "      <td>13.0</td>\n",
       "      <td>8.74</td>\n",
       "      <td>13.0</td>\n",
       "      <td>12.74</td>\n",
       "      <td>8.0</td>\n",
       "      <td>7.71</td>\n",
       "    </tr>\n",
       "    <tr>\n",
       "      <th>3</th>\n",
       "      <td>9.0</td>\n",
       "      <td>8.81</td>\n",
       "      <td>9.0</td>\n",
       "      <td>8.77</td>\n",
       "      <td>9.0</td>\n",
       "      <td>7.11</td>\n",
       "      <td>8.0</td>\n",
       "      <td>8.84</td>\n",
       "    </tr>\n",
       "    <tr>\n",
       "      <th>4</th>\n",
       "      <td>11.0</td>\n",
       "      <td>8.33</td>\n",
       "      <td>11.0</td>\n",
       "      <td>9.26</td>\n",
       "      <td>11.0</td>\n",
       "      <td>7.81</td>\n",
       "      <td>8.0</td>\n",
       "      <td>8.47</td>\n",
       "    </tr>\n",
       "  </tbody>\n",
       "</table>\n",
       "</div>"
      ],
      "text/plain": [
       "     x1   \"y1\"   \"x2\"   \"y2\"   \"x3\"   \"y3\"   \"x4\"   \"y4\"\n",
       "0  10.0   8.04   10.0   9.14   10.0   7.46    8.0   6.58\n",
       "1   8.0   6.95    8.0   8.14    8.0   6.77    8.0   5.76\n",
       "2  13.0   7.58   13.0   8.74   13.0  12.74    8.0   7.71\n",
       "3   9.0   8.81    9.0   8.77    9.0   7.11    8.0   8.84\n",
       "4  11.0   8.33   11.0   9.26   11.0   7.81    8.0   8.47"
      ]
     },
     "execution_count": 2,
     "metadata": {},
     "output_type": "execute_result"
    }
   ],
   "source": [
    "data.head()"
   ]
  },
  {
   "cell_type": "code",
   "execution_count": 2,
   "metadata": {},
   "outputs": [],
   "source": [
    "data.columns = data.columns.str.replace('\"', '').str.strip()"
   ]
  },
  {
   "cell_type": "code",
   "execution_count": 4,
   "metadata": {},
   "outputs": [
    {
     "data": {
      "text/plain": [
       "Index(['x1', 'y1', 'x2', 'y2', 'x3', 'y3', 'x4', 'y4'], dtype='object')"
      ]
     },
     "execution_count": 4,
     "metadata": {},
     "output_type": "execute_result"
    }
   ],
   "source": [
    "data.columns"
   ]
  },
  {
   "cell_type": "markdown",
   "metadata": {},
   "source": [
    "Funkcja regresji liniowej"
   ]
  },
  {
   "cell_type": "code",
   "execution_count": 3,
   "metadata": {},
   "outputs": [],
   "source": [
    "def analyze_pair(data, pair_number):\n",
    "    x = data[f\"x{pair_number}\"]\n",
    "    y = data[f\"y{pair_number}\"]\n",
    "    \n",
    "    # Obliczanie średnich i wariancji\n",
    "    mean_x = np.mean(x)\n",
    "    mean_y = np.mean(y)\n",
    "    var_x = np.var(x, ddof=1)  # wariancja próby\n",
    "    var_y = np.var(y, ddof=1)\n",
    "    corr_coeff = np.corrcoef(x, y)[0, 1]  # współczynnik korelacji\n",
    "\n",
    "    # Regresja liniowa\n",
    "    slope, intercept, r_value, p_value, std_err = linregress(x, y)\n",
    "    r_squared = r_value ** 2  # współczynnik determinacji\n",
    "\n",
    "    results_df = pd.DataFrame({\n",
    "        \"Statystyka\": [\"Średnia X\", \"Średnia Y\", \"Wariancja X\", \"Wariancja Y\", \n",
    "                      \"Współczynnik korelacji\", \"Równanie regresji liniowej\", \"Współczynnik determinacji\"],\n",
    "        \"Wartość\": [mean_x, mean_y, var_x, var_y, corr_coeff, \n",
    "                  f\"y = {slope:.2f}x + {intercept:.2f}\", r_squared]\n",
    "    })\n",
    "    \n",
    "    # Wykres rozrzutu z linią regresji\n",
    "    plt.figure(figsize=(6, 4))\n",
    "    plt.scatter(x, y, label='Punkty danych')\n",
    "    plt.plot(x, slope * x + intercept, color='red', label='Linia regresji')\n",
    "    plt.xlabel(f\"x{pair_number}\")\n",
    "    plt.ylabel(f\"y{pair_number}\")\n",
    "    plt.title(f\"Wykres rozrzutu z linią regresji dla zestawu {pair_number}\")\n",
    "    plt.legend()\n",
    "    plt.show()\n",
    "    \n",
    "    return results_df"
   ]
  },
  {
   "cell_type": "markdown",
   "metadata": {},
   "source": [
    "Wykresy"
   ]
  },
  {
   "cell_type": "code",
   "execution_count": 4,
   "metadata": {},
   "outputs": [
    {
     "data": {
      "image/png": "[encoded data removed]",
      "text/plain": [
       "<Figure size 600x400 with 1 Axes>"
      ]
     },
     "metadata": {},
     "output_type": "display_data"
    },
    {
     "data": {
      "text/html": [
       "<div>\n",
       "<style scoped>\n",
       "    .dataframe tbody tr th:only-of-type {\n",
       "        vertical-align: middle;\n",
       "    }\n",
       "\n",
       "    .dataframe tbody tr th {\n",
       "        vertical-align: top;\n",
       "    }\n",
       "\n",
       "    .dataframe thead th {\n",
       "        text-align: right;\n",
       "    }\n",
       "</style>\n",
       "<table border=\"1\" class=\"dataframe\">\n",
       "  <thead>\n",
       "    <tr style=\"text-align: right;\">\n",
       "      <th></th>\n",
       "      <th>Wartość</th>\n",
       "    </tr>\n",
       "    <tr>\n",
       "      <th>Statystyka</th>\n",
       "      <th></th>\n",
       "    </tr>\n",
       "  </thead>\n",
       "  <tbody>\n",
       "    <tr>\n",
       "      <th>Średnia X</th>\n",
       "      <td>9.0</td>\n",
       "    </tr>\n",
       "    <tr>\n",
       "      <th>Średnia Y</th>\n",
       "      <td>7.500909</td>\n",
       "    </tr>\n",
       "    <tr>\n",
       "      <th>Wariancja X</th>\n",
       "      <td>11.0</td>\n",
       "    </tr>\n",
       "    <tr>\n",
       "      <th>Wariancja Y</th>\n",
       "      <td>4.127269</td>\n",
       "    </tr>\n",
       "    <tr>\n",
       "      <th>Współczynnik korelacji</th>\n",
       "      <td>0.816421</td>\n",
       "    </tr>\n",
       "    <tr>\n",
       "      <th>Równanie regresji liniowej</th>\n",
       "      <td>y = 0.50x + 3.00</td>\n",
       "    </tr>\n",
       "    <tr>\n",
       "      <th>Współczynnik determinacji</th>\n",
       "      <td>0.666542</td>\n",
       "    </tr>\n",
       "  </tbody>\n",
       "</table>\n",
       "</div>"
      ],
      "text/plain": [
       "                                     Wartość\n",
       "Statystyka                                  \n",
       "Średnia X                                9.0\n",
       "Średnia Y                           7.500909\n",
       "Wariancja X                             11.0\n",
       "Wariancja Y                         4.127269\n",
       "Współczynnik korelacji              0.816421\n",
       "Równanie regresji liniowej  y = 0.50x + 3.00\n",
       "Współczynnik determinacji           0.666542"
      ]
     },
     "metadata": {},
     "output_type": "display_data"
    }
   ],
   "source": [
    "results_pair_1 = analyze_pair(data, 1)\n",
    "display(results_pair_1.set_index(\"Statystyka\"))"
   ]
  },
  {
   "cell_type": "code",
   "execution_count": 5,
   "metadata": {},
   "outputs": [
    {
     "data": {
      "image/png": "[encoded data removed]",
      "text/plain": [
       "<Figure size 600x400 with 1 Axes>"
      ]
     },
     "metadata": {},
     "output_type": "display_data"
    },
    {
     "data": {
      "text/html": [
       "<div>\n",
       "<style scoped>\n",
       "    .dataframe tbody tr th:only-of-type {\n",
       "        vertical-align: middle;\n",
       "    }\n",
       "\n",
       "    .dataframe tbody tr th {\n",
       "        vertical-align: top;\n",
       "    }\n",
       "\n",
       "    .dataframe thead th {\n",
       "        text-align: right;\n",
       "    }\n",
       "</style>\n",
       "<table border=\"1\" class=\"dataframe\">\n",
       "  <thead>\n",
       "    <tr style=\"text-align: right;\">\n",
       "      <th></th>\n",
       "      <th>Wartość</th>\n",
       "    </tr>\n",
       "    <tr>\n",
       "      <th>Statystyka</th>\n",
       "      <th></th>\n",
       "    </tr>\n",
       "  </thead>\n",
       "  <tbody>\n",
       "    <tr>\n",
       "      <th>Średnia X</th>\n",
       "      <td>9.0</td>\n",
       "    </tr>\n",
       "    <tr>\n",
       "      <th>Średnia Y</th>\n",
       "      <td>7.500909</td>\n",
       "    </tr>\n",
       "    <tr>\n",
       "      <th>Wariancja X</th>\n",
       "      <td>11.0</td>\n",
       "    </tr>\n",
       "    <tr>\n",
       "      <th>Wariancja Y</th>\n",
       "      <td>4.127629</td>\n",
       "    </tr>\n",
       "    <tr>\n",
       "      <th>Współczynnik korelacji</th>\n",
       "      <td>0.816237</td>\n",
       "    </tr>\n",
       "    <tr>\n",
       "      <th>Równanie regresji liniowej</th>\n",
       "      <td>y = 0.50x + 3.00</td>\n",
       "    </tr>\n",
       "    <tr>\n",
       "      <th>Współczynnik determinacji</th>\n",
       "      <td>0.666242</td>\n",
       "    </tr>\n",
       "  </tbody>\n",
       "</table>\n",
       "</div>"
      ],
      "text/plain": [
       "                                     Wartość\n",
       "Statystyka                                  \n",
       "Średnia X                                9.0\n",
       "Średnia Y                           7.500909\n",
       "Wariancja X                             11.0\n",
       "Wariancja Y                         4.127629\n",
       "Współczynnik korelacji              0.816237\n",
       "Równanie regresji liniowej  y = 0.50x + 3.00\n",
       "Współczynnik determinacji           0.666242"
      ]
     },
     "metadata": {},
     "output_type": "display_data"
    }
   ],
   "source": [
    "results_pair_2 = analyze_pair(data, 2)\n",
    "display(results_pair_2.set_index(\"Statystyka\"))"
   ]
  },
  {
   "cell_type": "code",
   "execution_count": 6,
   "metadata": {},
   "outputs": [
    {
     "data": {
      "image/png": "[encoded data removed]",
      "text/plain": [
       "<Figure size 600x400 with 1 Axes>"
      ]
     },
     "metadata": {},
     "output_type": "display_data"
    },
    {
     "data": {
      "text/html": [
       "<div>\n",
       "<style scoped>\n",
       "    .dataframe tbody tr th:only-of-type {\n",
       "        vertical-align: middle;\n",
       "    }\n",
       "\n",
       "    .dataframe tbody tr th {\n",
       "        vertical-align: top;\n",
       "    }\n",
       "\n",
       "    .dataframe thead th {\n",
       "        text-align: right;\n",
       "    }\n",
       "</style>\n",
       "<table border=\"1\" class=\"dataframe\">\n",
       "  <thead>\n",
       "    <tr style=\"text-align: right;\">\n",
       "      <th></th>\n",
       "      <th>Wartość</th>\n",
       "    </tr>\n",
       "    <tr>\n",
       "      <th>Statystyka</th>\n",
       "      <th></th>\n",
       "    </tr>\n",
       "  </thead>\n",
       "  <tbody>\n",
       "    <tr>\n",
       "      <th>Średnia X</th>\n",
       "      <td>9.0</td>\n",
       "    </tr>\n",
       "    <tr>\n",
       "      <th>Średnia Y</th>\n",
       "      <td>7.5</td>\n",
       "    </tr>\n",
       "    <tr>\n",
       "      <th>Wariancja X</th>\n",
       "      <td>11.0</td>\n",
       "    </tr>\n",
       "    <tr>\n",
       "      <th>Wariancja Y</th>\n",
       "      <td>4.12262</td>\n",
       "    </tr>\n",
       "    <tr>\n",
       "      <th>Współczynnik korelacji</th>\n",
       "      <td>0.816287</td>\n",
       "    </tr>\n",
       "    <tr>\n",
       "      <th>Równanie regresji liniowej</th>\n",
       "      <td>y = 0.50x + 3.00</td>\n",
       "    </tr>\n",
       "    <tr>\n",
       "      <th>Współczynnik determinacji</th>\n",
       "      <td>0.666324</td>\n",
       "    </tr>\n",
       "  </tbody>\n",
       "</table>\n",
       "</div>"
      ],
      "text/plain": [
       "                                     Wartość\n",
       "Statystyka                                  \n",
       "Średnia X                                9.0\n",
       "Średnia Y                                7.5\n",
       "Wariancja X                             11.0\n",
       "Wariancja Y                          4.12262\n",
       "Współczynnik korelacji              0.816287\n",
       "Równanie regresji liniowej  y = 0.50x + 3.00\n",
       "Współczynnik determinacji           0.666324"
      ]
     },
     "metadata": {},
     "output_type": "display_data"
    }
   ],
   "source": [
    "results_pair_3 = analyze_pair(data, 3)\n",
    "display(results_pair_3.set_index(\"Statystyka\"))"
   ]
  },
  {
   "cell_type": "code",
   "execution_count": 7,
   "metadata": {},
   "outputs": [
    {
     "data": {
      "image/png": "[encoded data removed]",
      "text/plain": [
       "<Figure size 600x400 with 1 Axes>"
      ]
     },
     "metadata": {},
     "output_type": "display_data"
    },
    {
     "data": {
      "text/html": [
       "<div>\n",
       "<style scoped>\n",
       "    .dataframe tbody tr th:only-of-type {\n",
       "        vertical-align: middle;\n",
       "    }\n",
       "\n",
       "    .dataframe tbody tr th {\n",
       "        vertical-align: top;\n",
       "    }\n",
       "\n",
       "    .dataframe thead th {\n",
       "        text-align: right;\n",
       "    }\n",
       "</style>\n",
       "<table border=\"1\" class=\"dataframe\">\n",
       "  <thead>\n",
       "    <tr style=\"text-align: right;\">\n",
       "      <th></th>\n",
       "      <th>Wartość</th>\n",
       "    </tr>\n",
       "    <tr>\n",
       "      <th>Statystyka</th>\n",
       "      <th></th>\n",
       "    </tr>\n",
       "  </thead>\n",
       "  <tbody>\n",
       "    <tr>\n",
       "      <th>Średnia X</th>\n",
       "      <td>9.0</td>\n",
       "    </tr>\n",
       "    <tr>\n",
       "      <th>Średnia Y</th>\n",
       "      <td>7.500909</td>\n",
       "    </tr>\n",
       "    <tr>\n",
       "      <th>Wariancja X</th>\n",
       "      <td>11.0</td>\n",
       "    </tr>\n",
       "    <tr>\n",
       "      <th>Wariancja Y</th>\n",
       "      <td>4.123249</td>\n",
       "    </tr>\n",
       "    <tr>\n",
       "      <th>Współczynnik korelacji</th>\n",
       "      <td>0.816521</td>\n",
       "    </tr>\n",
       "    <tr>\n",
       "      <th>Równanie regresji liniowej</th>\n",
       "      <td>y = 0.50x + 3.00</td>\n",
       "    </tr>\n",
       "    <tr>\n",
       "      <th>Współczynnik determinacji</th>\n",
       "      <td>0.666707</td>\n",
       "    </tr>\n",
       "  </tbody>\n",
       "</table>\n",
       "</div>"
      ],
      "text/plain": [
       "                                     Wartość\n",
       "Statystyka                                  \n",
       "Średnia X                                9.0\n",
       "Średnia Y                           7.500909\n",
       "Wariancja X                             11.0\n",
       "Wariancja Y                         4.123249\n",
       "Współczynnik korelacji              0.816521\n",
       "Równanie regresji liniowej  y = 0.50x + 3.00\n",
       "Współczynnik determinacji           0.666707"
      ]
     },
     "metadata": {},
     "output_type": "display_data"
    }
   ],
   "source": [
    "results_pair_4 = analyze_pair(data, 4)\n",
    "display(results_pair_4.set_index(\"Statystyka\"))"
   ]
  },
  {
   "cell_type": "markdown",
   "metadata": {},
   "source": [
    "Tabela wyników analizy"
   ]
  },
  {
   "cell_type": "code",
   "execution_count": 8,
   "metadata": {},
   "outputs": [
    {
     "data": {
      "text/html": [
       "<div>\n",
       "<style scoped>\n",
       "    .dataframe tbody tr th:only-of-type {\n",
       "        vertical-align: middle;\n",
       "    }\n",
       "\n",
       "    .dataframe tbody tr th {\n",
       "        vertical-align: top;\n",
       "    }\n",
       "\n",
       "    .dataframe thead th {\n",
       "        text-align: right;\n",
       "    }\n",
       "</style>\n",
       "<table border=\"1\" class=\"dataframe\">\n",
       "  <thead>\n",
       "    <tr style=\"text-align: right;\">\n",
       "      <th></th>\n",
       "      <th>Para 1</th>\n",
       "      <th>Para 2</th>\n",
       "      <th>Para 3</th>\n",
       "      <th>Para 4</th>\n",
       "    </tr>\n",
       "    <tr>\n",
       "      <th>Statystyka</th>\n",
       "      <th></th>\n",
       "      <th></th>\n",
       "      <th></th>\n",
       "      <th></th>\n",
       "    </tr>\n",
       "  </thead>\n",
       "  <tbody>\n",
       "    <tr>\n",
       "      <th>Średnia X</th>\n",
       "      <td>9.0</td>\n",
       "      <td>9.0</td>\n",
       "      <td>9.0</td>\n",
       "      <td>9.0</td>\n",
       "    </tr>\n",
       "    <tr>\n",
       "      <th>Średnia Y</th>\n",
       "      <td>7.500909</td>\n",
       "      <td>7.500909</td>\n",
       "      <td>7.5</td>\n",
       "      <td>7.500909</td>\n",
       "    </tr>\n",
       "    <tr>\n",
       "      <th>Wariancja X</th>\n",
       "      <td>11.0</td>\n",
       "      <td>11.0</td>\n",
       "      <td>11.0</td>\n",
       "      <td>11.0</td>\n",
       "    </tr>\n",
       "    <tr>\n",
       "      <th>Wariancja Y</th>\n",
       "      <td>4.127269</td>\n",
       "      <td>4.127629</td>\n",
       "      <td>4.12262</td>\n",
       "      <td>4.123249</td>\n",
       "    </tr>\n",
       "    <tr>\n",
       "      <th>Współczynnik korelacji</th>\n",
       "      <td>0.816421</td>\n",
       "      <td>0.816237</td>\n",
       "      <td>0.816287</td>\n",
       "      <td>0.816521</td>\n",
       "    </tr>\n",
       "    <tr>\n",
       "      <th>Równanie regresji liniowej</th>\n",
       "      <td>y = 0.50x + 3.00</td>\n",
       "      <td>y = 0.50x + 3.00</td>\n",
       "      <td>y = 0.50x + 3.00</td>\n",
       "      <td>y = 0.50x + 3.00</td>\n",
       "    </tr>\n",
       "    <tr>\n",
       "      <th>Współczynnik determinacji</th>\n",
       "      <td>0.666542</td>\n",
       "      <td>0.666242</td>\n",
       "      <td>0.666324</td>\n",
       "      <td>0.666707</td>\n",
       "    </tr>\n",
       "  </tbody>\n",
       "</table>\n",
       "</div>"
      ],
      "text/plain": [
       "                                      Para 1            Para 2  \\\n",
       "Statystyka                                                       \n",
       "Średnia X                                9.0               9.0   \n",
       "Średnia Y                           7.500909          7.500909   \n",
       "Wariancja X                             11.0              11.0   \n",
       "Wariancja Y                         4.127269          4.127629   \n",
       "Współczynnik korelacji              0.816421          0.816237   \n",
       "Równanie regresji liniowej  y = 0.50x + 3.00  y = 0.50x + 3.00   \n",
       "Współczynnik determinacji           0.666542          0.666242   \n",
       "\n",
       "                                      Para 3            Para 4  \n",
       "Statystyka                                                      \n",
       "Średnia X                                9.0               9.0  \n",
       "Średnia Y                                7.5          7.500909  \n",
       "Wariancja X                             11.0              11.0  \n",
       "Wariancja Y                          4.12262          4.123249  \n",
       "Współczynnik korelacji              0.816287          0.816521  \n",
       "Równanie regresji liniowej  y = 0.50x + 3.00  y = 0.50x + 3.00  \n",
       "Współczynnik determinacji           0.666324          0.666707  "
      ]
     },
     "metadata": {},
     "output_type": "display_data"
    }
   ],
   "source": [
    "final_combined_results = pd.concat([results_pair_1.set_index(\"Statystyka\"),\n",
    "                                    results_pair_2.set_index(\"Statystyka\"),\n",
    "                                    results_pair_3.set_index(\"Statystyka\"),\n",
    "                                    results_pair_4.set_index(\"Statystyka\")], axis=1)\n",
    "\n",
    "final_combined_results.columns = [\"Para 1\", \"Para 2\", \"Para 3\", \"Para 4\"]\n",
    "\n",
    "display(final_combined_results)"
   ]
  },
  {
   "cell_type": "markdown",
   "metadata": {},
   "source": [
    "Wnioski"
   ]
  },
  {
   "cell_type": "markdown",
   "metadata": {},
   "source": [
    "Można zauważysz bardzo zbliżone lub wręcz takie same wyniki analiz dla wszystkich par. Jednak para zestawu 4 ma takie same wartości X, których analiza za pomocą regresji liniowej nie jest zbyt dobra dla tego modelu."
   ]
  }
 ],
 "metadata": {
  "kernelspec": {
   "display_name": "Python 3",
   "language": "python",
   "name": "python3"
  },
  "language_info": {
   "codemirror_mode": {
    "name": "ipython",
    "version": 3
   },
   "file_extension": ".py",
   "mimetype": "text/x-python",
   "name": "python",
   "nbconvert_exporter": "python",
   "pygments_lexer": "ipython3",
   "version": "3.12.3"
  }
 },
 "nbformat": 4,
 "nbformat_minor": 2
}
